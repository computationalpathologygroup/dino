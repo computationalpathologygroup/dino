{
 "cells": [
  {
   "cell_type": "code",
   "execution_count": 4,
   "metadata": {},
   "outputs": [],
   "source": [
    "import sys\n",
    "#!{sys.executable} -m pip install sagemaker"
   ]
  },
  {
   "cell_type": "code",
   "execution_count": 5,
   "metadata": {},
   "outputs": [],
   "source": [
    "import sagemaker\n",
    "import os\n",
    "from dataclasses import dataclass, asdict\n",
    "import argparse\n",
    "from cohorts import *\n",
    "from sagemaker.workflow.pipeline_context import LocalPipelineSession\n",
    "import sagemaker\n",
    "import os\n",
    "import subprocess\n",
    "from sagemaker.local import LocalSession\n",
    "from sagemaker.estimator import Estimator\n",
    "import boto3\n"
   ]
  },
  {
   "cell_type": "code",
   "execution_count": 6,
   "metadata": {},
   "outputs": [
    {
     "ename": "ValueError",
     "evalue": "framework_version or py_version was None, yet image_uri was also None. Either specify both framework_version and py_version, or specify image_uri.",
     "output_type": "error",
     "traceback": [
      "\u001b[0;31m---------------------------------------------------------------------------\u001b[0m",
      "\u001b[0;31mValueError\u001b[0m                                Traceback (most recent call last)",
      "Cell \u001b[0;32mIn[6], line 6\u001b[0m\n\u001b[1;32m      4\u001b[0m model_location \u001b[38;5;241m=\u001b[39m \u001b[38;5;124m'\u001b[39m\u001b[38;5;124ms3://mybucket/my_model.tar.gz\u001b[39m\u001b[38;5;124m'\u001b[39m\n\u001b[1;32m      5\u001b[0m code_location \u001b[38;5;241m=\u001b[39m \u001b[38;5;124m'\u001b[39m\u001b[38;5;124ms3://mybucket/sourcedir.tar.gz\u001b[39m\u001b[38;5;124m'\u001b[39m\n\u001b[0;32m----> 6\u001b[0m s3_model \u001b[38;5;241m=\u001b[39m \u001b[43mMXNetModel\u001b[49m\u001b[43m(\u001b[49m\u001b[43mmodel_data\u001b[49m\u001b[38;5;241;43m=\u001b[39;49m\u001b[43mmodel_location\u001b[49m\u001b[43m,\u001b[49m\u001b[43m \u001b[49m\u001b[43mrole\u001b[49m\u001b[38;5;241;43m=\u001b[39;49m\u001b[38;5;124;43m'\u001b[39;49m\u001b[38;5;124;43mSageMakerRole\u001b[39;49m\u001b[38;5;124;43m'\u001b[39;49m\u001b[43m,\u001b[49m\n\u001b[1;32m      7\u001b[0m \u001b[43m                      \u001b[49m\u001b[43mentry_point\u001b[49m\u001b[38;5;241;43m=\u001b[39;49m\u001b[38;5;124;43m'\u001b[39;49m\u001b[38;5;124;43mmnist.py\u001b[39;49m\u001b[38;5;124;43m'\u001b[39;49m\u001b[43m,\u001b[49m\u001b[43m \u001b[49m\u001b[43msource_dir\u001b[49m\u001b[38;5;241;43m=\u001b[39;49m\u001b[43mcode_location\u001b[49m\u001b[43m)\u001b[49m\n\u001b[1;32m      9\u001b[0m predictor \u001b[38;5;241m=\u001b[39m s3_model\u001b[38;5;241m.\u001b[39mdeploy(initial_instance_count\u001b[38;5;241m=\u001b[39m\u001b[38;5;241m1\u001b[39m, instance_type\u001b[38;5;241m=\u001b[39m\u001b[38;5;124m'\u001b[39m\u001b[38;5;124mlocal\u001b[39m\u001b[38;5;124m'\u001b[39m)\n\u001b[1;32m     10\u001b[0m data \u001b[38;5;241m=\u001b[39m numpy\u001b[38;5;241m.\u001b[39mzeros(shape\u001b[38;5;241m=\u001b[39m(\u001b[38;5;241m1\u001b[39m, \u001b[38;5;241m1\u001b[39m, \u001b[38;5;241m28\u001b[39m, \u001b[38;5;241m28\u001b[39m))\n",
      "File \u001b[0;32m~/awscli-env/lib/python3.11/site-packages/sagemaker/mxnet/model.py:142\u001b[0m, in \u001b[0;36mMXNetModel.__init__\u001b[0;34m(self, model_data, role, entry_point, framework_version, py_version, image_uri, predictor_cls, model_server_workers, **kwargs)\u001b[0m\n\u001b[1;32m     88\u001b[0m \u001b[38;5;28;01mdef\u001b[39;00m \u001b[38;5;21m__init__\u001b[39m(\n\u001b[1;32m     89\u001b[0m     \u001b[38;5;28mself\u001b[39m,\n\u001b[1;32m     90\u001b[0m     model_data: Union[\u001b[38;5;28mstr\u001b[39m, PipelineVariable],\n\u001b[0;32m   (...)\u001b[0m\n\u001b[1;32m     98\u001b[0m     \u001b[38;5;241m*\u001b[39m\u001b[38;5;241m*\u001b[39mkwargs\n\u001b[1;32m     99\u001b[0m ):\n\u001b[1;32m    100\u001b[0m \u001b[38;5;250m    \u001b[39m\u001b[38;5;124;03m\"\"\"Initialize an MXNetModel.\u001b[39;00m\n\u001b[1;32m    101\u001b[0m \n\u001b[1;32m    102\u001b[0m \u001b[38;5;124;03m    Args:\u001b[39;00m\n\u001b[0;32m   (...)\u001b[0m\n\u001b[1;32m    140\u001b[0m \u001b[38;5;124;03m        :class:`~sagemaker.model.Model`.\u001b[39;00m\n\u001b[1;32m    141\u001b[0m \u001b[38;5;124;03m    \"\"\"\u001b[39;00m\n\u001b[0;32m--> 142\u001b[0m     \u001b[43mvalidate_version_or_image_args\u001b[49m\u001b[43m(\u001b[49m\u001b[43mframework_version\u001b[49m\u001b[43m,\u001b[49m\u001b[43m \u001b[49m\u001b[43mpy_version\u001b[49m\u001b[43m,\u001b[49m\u001b[43m \u001b[49m\u001b[43mimage_uri\u001b[49m\u001b[43m)\u001b[49m\n\u001b[1;32m    143\u001b[0m     \u001b[38;5;28;01mif\u001b[39;00m py_version \u001b[38;5;241m==\u001b[39m \u001b[38;5;124m\"\u001b[39m\u001b[38;5;124mpy2\u001b[39m\u001b[38;5;124m\"\u001b[39m:\n\u001b[1;32m    144\u001b[0m         logger\u001b[38;5;241m.\u001b[39mwarning(\n\u001b[1;32m    145\u001b[0m             python_deprecation_warning(\u001b[38;5;28mself\u001b[39m\u001b[38;5;241m.\u001b[39m_framework_name, defaults\u001b[38;5;241m.\u001b[39mLATEST_PY2_VERSION)\n\u001b[1;32m    146\u001b[0m         )\n",
      "File \u001b[0;32m~/awscli-env/lib/python3.11/site-packages/sagemaker/fw_utils.py:1257\u001b[0m, in \u001b[0;36mvalidate_version_or_image_args\u001b[0;34m(framework_version, py_version, image_uri)\u001b[0m\n\u001b[1;32m   1243\u001b[0m \u001b[38;5;250m\u001b[39m\u001b[38;5;124;03m\"\"\"Checks if version or image arguments are specified.\u001b[39;00m\n\u001b[1;32m   1244\u001b[0m \n\u001b[1;32m   1245\u001b[0m \u001b[38;5;124;03mValidates framework and model arguments to enforce version or image specification.\u001b[39;00m\n\u001b[0;32m   (...)\u001b[0m\n\u001b[1;32m   1254\u001b[0m \u001b[38;5;124;03m        None.\u001b[39;00m\n\u001b[1;32m   1255\u001b[0m \u001b[38;5;124;03m\"\"\"\u001b[39;00m\n\u001b[1;32m   1256\u001b[0m \u001b[38;5;28;01mif\u001b[39;00m (framework_version \u001b[38;5;129;01mis\u001b[39;00m \u001b[38;5;28;01mNone\u001b[39;00m \u001b[38;5;129;01mor\u001b[39;00m py_version \u001b[38;5;129;01mis\u001b[39;00m \u001b[38;5;28;01mNone\u001b[39;00m) \u001b[38;5;129;01mand\u001b[39;00m image_uri \u001b[38;5;129;01mis\u001b[39;00m \u001b[38;5;28;01mNone\u001b[39;00m:\n\u001b[0;32m-> 1257\u001b[0m     \u001b[38;5;28;01mraise\u001b[39;00m \u001b[38;5;167;01mValueError\u001b[39;00m(\n\u001b[1;32m   1258\u001b[0m         \u001b[38;5;124m\"\u001b[39m\u001b[38;5;124mframework_version or py_version was None, yet image_uri was also None. \u001b[39m\u001b[38;5;124m\"\u001b[39m\n\u001b[1;32m   1259\u001b[0m         \u001b[38;5;124m\"\u001b[39m\u001b[38;5;124mEither specify both framework_version and py_version, or specify image_uri.\u001b[39m\u001b[38;5;124m\"\u001b[39m\n\u001b[1;32m   1260\u001b[0m     )\n",
      "\u001b[0;31mValueError\u001b[0m: framework_version or py_version was None, yet image_uri was also None. Either specify both framework_version and py_version, or specify image_uri."
     ]
    }
   ],
   "source": [
    "import numpy\n",
    "from sagemaker.mxnet import MXNetModel\n",
    "\n",
    "model_location = 's3://mybucket/my_model.tar.gz'\n",
    "code_location = 's3://mybucket/sourcedir.tar.gz'\n",
    "s3_model = MXNetModel(model_data=model_location, role='SageMakerRole',\n",
    "                      entry_point='mnist.py', source_dir=code_location)\n",
    "\n",
    "predictor = s3_model.deploy(initial_instance_count=1, instance_type='local')\n",
    "data = numpy.zeros(shape=(1, 1, 28, 28))\n",
    "predictor.predict(data)\n",
    "\n",
    "# Tear down the endpoint container and delete the corresponding endpoint configuration\n",
    "predictor.delete_endpoint()\n",
    "\n",
    "# Deletes the model\n",
    "predictor.delete_model()"
   ]
  },
  {
   "cell_type": "code",
   "execution_count": 2,
   "metadata": {},
   "outputs": [
    {
     "name": "stderr",
     "output_type": "stream",
     "text": [
      "Windows Support for Local Mode is Experimental\n"
     ]
    },
    {
     "name": "stdout",
     "output_type": "stream",
     "text": [
      "Instance type = local\n"
     ]
    }
   ],
   "source": [
    "os.environ['AWS_DEFAULT_REGION'] = 'us-west-2'\n",
    "instance_type = \"local\"\n",
    "\n",
    "try:\n",
    "    if subprocess.call(\"nvidia-smi\") == 0:\n",
    "        ## Set type to GPU if one is present\n",
    "        instance_type = \"local\"\n",
    "\n",
    "        sagemaker_session = LocalSession()\n",
    "        sagemaker_session.config = {'local': {'local_code': True}}\n",
    "except:\n",
    "    pass\n",
    "\n",
    "print(\"Instance type = \" + instance_type)"
   ]
  },
  {
   "cell_type": "markdown",
   "metadata": {},
   "source": [
    "## Build container entrypoint"
   ]
  },
  {
   "cell_type": "code",
   "execution_count": 3,
   "metadata": {},
   "outputs": [
    {
     "name": "stdout",
     "output_type": "stream",
     "text": [
      "['python3', './preprocessing/infer_entries.py', '--tarball_path', '/opt/ml/input/data/tarballs/panda.tar', '--output_root', '/opt/ml/output/preprocessing/', '--remove', '/opt/ml/input/data/restrict_files/downstream_panda_test.txt', '--name', 'panda']\n"
     ]
    }
   ],
   "source": [
    "dataset = Panda()\n",
    "options = asdict(dataset)\n",
    "container_entry_point=[\"python3\", \"./preprocessing/infer_entries.py\"]\n",
    "\n",
    "# Convert dictionary to list format\n",
    "for key, value in options.items():\n",
    "    if value:  # Only add the key for True values\n",
    "        container_entry_point.extend([f\"--{key}\", str(value)])\n",
    "print(container_entry_point)"
   ]
  },
  {
   "cell_type": "markdown",
   "metadata": {},
   "source": [
    "## Build container"
   ]
  },
  {
   "cell_type": "code",
   "execution_count": null,
   "metadata": {},
   "outputs": [],
   "source": [
    "preprocessing_image = \"668452981977.dkr.ecr.us-east-1.amazonaws.com/rumc-stoic-p/sagemaker-daan-geijs:lightstream12\"\n",
    "sm_role = \"AmazonSageMaker-ExecutionRole-20221113T171260\"\n",
    "\n",
    "sm_role = 'SageMakerRole'\n",
    "instance_type = 'local'\n",
    "docker_image = 'image_tag'\n",
    "estimator = Estimator(\n",
    "    image_uri=docker_image,\n",
    "    container_entry_point=container_entry_point,\n",
    "    role=sm_role,\n",
    "    instance_count=1,\n",
    "    volume_size = 1024,\n",
    "    environment={\n",
    "        'VIPS_CONCURRENCY': '20',\n",
    "        'OMP_NUM_THREADS': '4'\n",
    "    },\n",
    "    #metrics_definitions = metrics, \n",
    "    instance_type=instance_type,\n",
    "    # use_spot_instances=True,\n",
    "    # max_wait = 86400,\n",
    "    output_path = \"s3://rumc-stoic-p-sagemaker-daan-geijs/output/models\",\n",
    "    checkpoint_s3_uri = \"s3://rumc-stoic-p-sagemaker-daan-geijs/output/checkpoints\",\n",
    ")"
   ]
  },
  {
   "cell_type": "code",
   "execution_count": null,
   "metadata": {},
   "outputs": [],
   "source": [
    "s3_root = \"s3://rumc-stoic-p-sagemaker-daan-geijs/input/vlfm\"\n",
    "\n",
    "data_channels = {\n",
    "    'tarballs': s3_root+'/data/tarballs/',\n",
    "    'filter_files': s3_root+'/data/filter_files/',\n",
    "    'cohorts': s3_root+'/data/cohorts',\n",
    "}\n",
    "print(data_channels)\n",
    "estimator.fit(s3_root)"
   ]
  },
  {
   "cell_type": "code",
   "execution_count": 8,
   "metadata": {},
   "outputs": [
    {
     "data": {
      "text/plain": [
       "'s3://tiger-training/'"
      ]
     },
     "execution_count": 8,
     "metadata": {},
     "output_type": "execute_result"
    }
   ],
   "source": [
    "# s3_root = \"s3://tiger-training/\"\n",
    "# s3_root\n",
    "\n",
    "# estimator.fit(s3_root)\n",
    "# job_name = estimator.latest_training_job.name\n",
    "# print(\"Training job name: {}\".format(job_name))\n",
    "\n",
    "# client = estimator.sagemaker_session.sagemaker_client\n",
    "\n",
    "# description = client.describe_training_job(TrainingJobName=job_name)\n",
    "\n"
   ]
  },
  {
   "cell_type": "code",
   "execution_count": null,
   "metadata": {},
   "outputs": [],
   "source": []
  }
 ],
 "metadata": {
  "kernelspec": {
   "display_name": "Python 3 (ipykernel)",
   "language": "python",
   "name": "python3"
  },
  "language_info": {
   "codemirror_mode": {
    "name": "ipython",
    "version": 3
   },
   "file_extension": ".py",
   "mimetype": "text/x-python",
   "name": "python",
   "nbconvert_exporter": "python",
   "pygments_lexer": "ipython3",
   "version": "3.11.5"
  }
 },
 "nbformat": 4,
 "nbformat_minor": 4
}
